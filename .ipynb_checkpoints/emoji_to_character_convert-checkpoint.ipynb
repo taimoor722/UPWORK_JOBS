{
 "cells": [
  {
   "cell_type": "code",
   "execution_count": 7,
   "metadata": {},
   "outputs": [],
   "source": [
    "pd.re"
   ]
  },
  {
   "cell_type": "code",
   "execution_count": 32,
   "metadata": {},
   "outputs": [],
   "source": [
    "\n",
    "import pandas as pd\n",
    "pd.set_option('display.max_columns', 155)\n"
   ]
  },
  {
   "cell_type": "code",
   "execution_count": 33,
   "metadata": {},
   "outputs": [],
   "source": [
    "data=pd.read_excel('D:\\\\Twitter Comments.xlsx')"
   ]
  },
  {
   "cell_type": "code",
   "execution_count": 64,
   "metadata": {},
   "outputs": [
    {
     "name": "stdout",
     "output_type": "stream",
     "text": [
      "Waaooooooooo!!! Aura Estrellaaaaaaaa 👏🏾👏🏾👏🏾👏🏾👏🏾👏🏾#DominicanasGotTalent\n",
      "70\n",
      "['👏', '👏', '👏', '👏', '👏', '👏'] 6\n",
      "Waaooooooooo!!! Aura Estrellaaaaaaaa #DominicanasGotTalent\n"
     ]
    }
   ],
   "source": [
    "index=0\n",
    "import re\n",
    "for i in data['Text'].tolist():\n",
    "    \n",
    "    if index==8098:\n",
    "        print(i)\n",
    "        l=(len(i))\n",
    "        print(l)\n",
    "        x=re.compile(r'[👏]+')\n",
    "        f=x.findall(i)\n",
    "        print(f,len(f))\n",
    "        i=i.replace('👏🏾','')\n",
    "\n",
    "        print(i)\n",
    "        break\n",
    "    index+=1"
   ]
  },
  {
   "cell_type": "code",
   "execution_count": null,
   "metadata": {},
   "outputs": [],
   "source": []
  }
 ],
 "metadata": {
  "kernelspec": {
   "display_name": "Python 3",
   "language": "python",
   "name": "python3"
  },
  "language_info": {
   "codemirror_mode": {
    "name": "ipython",
    "version": 3
   },
   "file_extension": ".py",
   "mimetype": "text/x-python",
   "name": "python",
   "nbconvert_exporter": "python",
   "pygments_lexer": "ipython3",
   "version": "3.7.3"
  }
 },
 "nbformat": 4,
 "nbformat_minor": 2
}
