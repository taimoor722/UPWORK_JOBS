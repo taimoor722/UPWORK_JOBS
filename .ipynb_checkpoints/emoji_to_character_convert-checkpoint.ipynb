{
 "cells": [
  {
   "cell_type": "code",
   "execution_count": 7,
   "metadata": {},
   "outputs": [],
   "source": [
    "# f=open('D:\\\\Twitter Comments.xlsx',encoding=\"CP1254\")"
   ]
  },
  {
   "cell_type": "code",
   "execution_count": 9,
   "metadata": {},
   "outputs": [],
   "source": [
    "# f.read()\n",
    "import pandas as pd"
   ]
  },
  {
   "cell_type": "code",
   "execution_count": 11,
   "metadata": {},
   "outputs": [],
   "source": [
    "data=pd.read_excel('D:\\\\Twitter Comments.xlsx')"
   ]
  },
  {
   "cell_type": "code",
   "execution_count": 12,
   "metadata": {},
   "outputs": [
    {
     "data": {
      "text/html": [
       "<div>\n",
       "<style scoped>\n",
       "    .dataframe tbody tr th:only-of-type {\n",
       "        vertical-align: middle;\n",
       "    }\n",
       "\n",
       "    .dataframe tbody tr th {\n",
       "        vertical-align: top;\n",
       "    }\n",
       "\n",
       "    .dataframe thead th {\n",
       "        text-align: right;\n",
       "    }\n",
       "</style>\n",
       "<table border=\"1\" class=\"dataframe\">\n",
       "  <thead>\n",
       "    <tr style=\"text-align: right;\">\n",
       "      <th></th>\n",
       "      <th>Text</th>\n",
       "    </tr>\n",
       "  </thead>\n",
       "  <tbody>\n",
       "    <tr>\n",
       "      <th>0</th>\n",
       "      <td>#RETENCIÓN nivel NEGRO en #C37 (pk 20.7 al 42 ...</td>\n",
       "    </tr>\n",
       "    <tr>\n",
       "      <th>1</th>\n",
       "      <td>#RETENCIÓN nivel NEGRO en #T201 (pk 6 al 16 am...</td>\n",
       "    </tr>\n",
       "    <tr>\n",
       "      <th>2</th>\n",
       "      <td>#VEH_ACCIDENTADO nivel AMARILLO en AUTOPISTA /...</td>\n",
       "    </tr>\n",
       "    <tr>\n",
       "      <th>3</th>\n",
       "      <td>#RETENCIÓN nivel NEGRO en #T243 (pk 7 al 12 am...</td>\n",
       "    </tr>\n",
       "    <tr>\n",
       "      <th>4</th>\n",
       "      <td>#RETENCIÓN nivel NEGRO en #T224 (pk 2 al 8 amb...</td>\n",
       "    </tr>\n",
       "    <tr>\n",
       "      <th>...</th>\n",
       "      <td>...</td>\n",
       "    </tr>\n",
       "    <tr>\n",
       "      <th>29899</th>\n",
       "      <td>RT @albertpaulino4: El hombre que deja un jueg...</td>\n",
       "    </tr>\n",
       "    <tr>\n",
       "      <th>29900</th>\n",
       "      <td>RT @packs_mega_2019: 30 RT Y LO PASO\\n#publico...</td>\n",
       "    </tr>\n",
       "    <tr>\n",
       "      <th>29901</th>\n",
       "      <td>RT @Badromants: Aprovecho el pique que tiene t...</td>\n",
       "    </tr>\n",
       "    <tr>\n",
       "      <th>29902</th>\n",
       "      <td>RT @Badromants: Aprovecho el pique que tiene t...</td>\n",
       "    </tr>\n",
       "    <tr>\n",
       "      <th>29903</th>\n",
       "      <td>RT @Badromants: Aprovecho el pique que tiene t...</td>\n",
       "    </tr>\n",
       "  </tbody>\n",
       "</table>\n",
       "<p>29904 rows × 1 columns</p>\n",
       "</div>"
      ],
      "text/plain": [
       "                                                    Text\n",
       "0      #RETENCIÓN nivel NEGRO en #C37 (pk 20.7 al 42 ...\n",
       "1      #RETENCIÓN nivel NEGRO en #T201 (pk 6 al 16 am...\n",
       "2      #VEH_ACCIDENTADO nivel AMARILLO en AUTOPISTA /...\n",
       "3      #RETENCIÓN nivel NEGRO en #T243 (pk 7 al 12 am...\n",
       "4      #RETENCIÓN nivel NEGRO en #T224 (pk 2 al 8 amb...\n",
       "...                                                  ...\n",
       "29899  RT @albertpaulino4: El hombre que deja un jueg...\n",
       "29900  RT @packs_mega_2019: 30 RT Y LO PASO\\n#publico...\n",
       "29901  RT @Badromants: Aprovecho el pique que tiene t...\n",
       "29902  RT @Badromants: Aprovecho el pique que tiene t...\n",
       "29903  RT @Badromants: Aprovecho el pique que tiene t...\n",
       "\n",
       "[29904 rows x 1 columns]"
      ]
     },
     "execution_count": 12,
     "metadata": {},
     "output_type": "execute_result"
    }
   ],
   "source": [
    "data"
   ]
  },
  {
   "cell_type": "code",
   "execution_count": null,
   "metadata": {},
   "outputs": [],
   "source": []
  }
 ],
 "metadata": {
  "kernelspec": {
   "display_name": "Python 3",
   "language": "python",
   "name": "python3"
  },
  "language_info": {
   "codemirror_mode": {
    "name": "ipython",
    "version": 3
   },
   "file_extension": ".py",
   "mimetype": "text/x-python",
   "name": "python",
   "nbconvert_exporter": "python",
   "pygments_lexer": "ipython3",
   "version": "3.7.3"
  }
 },
 "nbformat": 4,
 "nbformat_minor": 2
}
